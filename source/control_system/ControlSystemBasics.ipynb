{
 "cells": [
  {
   "cell_type": "markdown",
   "metadata": {},
   "source": [
    "Notes about basics of control systems after watching https://training.ti.com/teaching-old-motors-new-tricks-part-1-introduction-motor-control-pi-controllers-pid-controllers-and?context=1137615-31562-31457\n",
    "\n",
    "Also review video series on control systems basics: https://www.youtube.com/playlist?list=PLUMWjy5jgHK3j74Z5Tq6Tso1fSfVWZC8L\n",
    "\n",
    "A good video explaining PID controllers: https://www.youtube.com/watch?v=wkfEZmsQqiA\n",
    "\n",
    "Types of control systems\n",
    "* Feed-forward\n",
    "* Feedback\n",
    "\n",
    "![](https://upload.wikimedia.org/wikipedia/en/c/c7/Control_Systems.png)\n",
    "\n",
    "For natural systems:\n",
    "\n",
    "* the transfer function will always have at least 1 pole more than the zeros, i.e., the gain will roll off after some frequency (the gain reduces as frequency increases beyond a certain cutoff)\n",
    "* each 'real' pole introduces a 90 degree phase shift\n",
    "\n",
    "Unity gain frequency (UGF) is the frequency at which the overall gain magnitude is 1\n",
    "If the total phase shift at UGF = 180 degree, the system works as an oscillator\n",
    "\n",
    "An oscillator is generally undesirable, unless the objective is to design an oscillator\n",
    "\n",
    "Phase delay makes it difficult to use high gain, e.g. warm water from shower but you need to wait for water temperature to stabilize, so can't turn the knob too fast\n",
    "\n",
    "FIR filters are seldom used due to their long phase delay, instead IIR filters are used\n",
    "\n",
    "# Feed-forward Control Systems\n",
    "\n",
    "Feed-forward control systems are a good choice when the system behaviour is well known and there's insignificant 'external noise'\n",
    "\n",
    "# Feedback Control Systems\n",
    "\n",
    "TODO: write here\n",
    "\n",
    "![A general closed loop control system](https://encrypted-tbn0.gstatic.com/images?q=tbn:ANd9GcQQnz1OaIT-zVIPhCeJ5MXObJdVsrlXYj_y8S1pv7ZdLr3QrMfQ&s)\n",
    "\n",
    "In the above image, we want to control the 'plant', such that the plant output 'y' is as close as possible to the reference input 'r'. This is achieved by finding the error 'r - y', and using a Controller 'C' to transform the error 'e' into a suitable plant input 'u', such that over time, the error 'e' tends towards ZERO\n",
    "\n",
    "# PID controllers\n",
    "\n",
    "One of the most commonly used controllers in closed loop control systems.\n",
    "\n",
    "![](https://www.researchgate.net/profile/Hari_Bansal/publication/268802558/figure/fig1/AS:669373450682369@1536602475197/Block-diagram-of-a-system-with-PID-controller.png)\n",
    "\n",
    "Since derivative is less efficient to design (compared to integration), and in order to avoid high frequency noise to get amplified and cause disturbance in control, the 'D' part of PID is generally realized as another closed loop with an integration in the feedback path. This is equivalent of a low pass filter followed by derivative in the feed-forward path\n",
    "\n",
    "![](https://www.researchgate.net/publication/304187695/figure/fig1/AS:669986725044254@1536748691547/The-structure-of-typical-control-system-With-PID-controller.png)"
   ]
  }
 ],
 "metadata": {
  "language_info": {
   "codemirror_mode": {
    "name": "ipython",
    "version": 3
   },
   "file_extension": ".py",
   "mimetype": "text/x-python",
   "name": "python",
   "nbconvert_exporter": "python",
   "pygments_lexer": "ipython3",
   "version": 3
  },
  "orig_nbformat": 2
 },
 "nbformat": 4,
 "nbformat_minor": 2
}